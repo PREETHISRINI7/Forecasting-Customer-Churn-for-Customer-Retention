{
  "cells": [
    {
      "cell_type": "code",
      "execution_count": null,
      "metadata": {
        "id": "DFSawEu7nBRw"
      },
      "outputs": [],
      "source": [
        "import pandas as pd\n",
        "import matplotlib.pyplot as plt\n",
        "import seaborn as sns\n",
        "import numpy as np\n",
        "\n",
        "import warnings\n",
        "warnings.filterwarnings('ignore')\n",
        "\n",
        "from sklearn.linear_model import LogisticRegression\n",
        "from sklearn.ensemble import GradientBoostingClassifier\n",
        "from numpy import loadtxt\n",
        "from xgboost import XGBClassifier\n",
        "from sklearn.ensemble import RandomForestClassifier\n",
        "from sklearn.tree import DecisionTreeClassifier\n",
        "from sklearn.svm import SVC\n",
        "from sklearn.preprocessing import LabelEncoder\n",
        "from sklearn.model_selection import train_test_split\n",
        "from sklearn.preprocessing import StandardScaler\n",
        "from sklearn.metrics import precision_score, recall_score, f1_score, accuracy_score"
      ]
    },
    {
      "cell_type": "code",
      "execution_count": null,
      "metadata": {
        "id": "-_fW2zD4nE_w"
      },
      "outputs": [],
      "source": [
        "df = pd.read_csv(\"client_data (1).csv\")"
      ]
    },
    {
      "cell_type": "code",
      "execution_count": null,
      "metadata": {
        "id": "xlX9eUthnFBh"
      },
      "outputs": [],
      "source": [
        "df.head()"
      ]
    },
    {
      "cell_type": "code",
      "execution_count": null,
      "metadata": {
        "id": "3h9GffHHnFEj"
      },
      "outputs": [],
      "source": [
        "df.shape"
      ]
    },
    {
      "cell_type": "code",
      "execution_count": null,
      "metadata": {
        "id": "v-ZH8tVAnFHl"
      },
      "outputs": [],
      "source": [
        "df.tail()"
      ]
    },
    {
      "cell_type": "code",
      "execution_count": null,
      "metadata": {
        "id": "w3Wu3bdqnFKp"
      },
      "outputs": [],
      "source": [
        "#df.columns.value_counts()"
      ]
    },
    {
      "cell_type": "code",
      "execution_count": null,
      "metadata": {
        "id": "uxwlQkwxnFNv"
      },
      "outputs": [],
      "source": [
        "df1 = pd.read_csv(\"price_data (1).csv\")\n",
        "df1"
      ]
    },
    {
      "cell_type": "code",
      "execution_count": null,
      "metadata": {
        "id": "sl9HG4tXnFQz"
      },
      "outputs": [],
      "source": [
        "df1.shape"
      ]
    },
    {
      "cell_type": "code",
      "execution_count": null,
      "metadata": {
        "id": "ok-ikBiznFT_"
      },
      "outputs": [],
      "source": [
        "final_df = df.join(df1.set_index('id'), on= \"id\", how='left')\n",
        "final_df"
      ]
    },
    {
      "cell_type": "code",
      "execution_count": null,
      "metadata": {
        "id": "7L6Xxi5hUKOY"
      },
      "outputs": [],
      "source": [
        "#df['id'].duplicated()"
      ]
    },
    {
      "cell_type": "code",
      "execution_count": null,
      "metadata": {
        "id": "yp5UGgCzJJLT"
      },
      "outputs": [],
      "source": [
        "final_df.isna().sum()"
      ]
    },
    {
      "cell_type": "code",
      "execution_count": null,
      "metadata": {
        "id": "oVTTPvhl0IL0"
      },
      "outputs": [],
      "source": [
        "#df['channel_sales'].value_counts()"
      ]
    },
    {
      "cell_type": "code",
      "execution_count": null,
      "metadata": {
        "id": "_l72Kx4D0IOU"
      },
      "outputs": [],
      "source": [
        "#df['origin_up'].value_counts()"
      ]
    },
    {
      "cell_type": "code",
      "execution_count": null,
      "metadata": {
        "id": "yJzXxDDDJJPX"
      },
      "outputs": [],
      "source": [
        "final_df.dropna(how = \"all\",inplace = True)"
      ]
    },
    {
      "cell_type": "code",
      "execution_count": null,
      "metadata": {
        "id": "UTeWMtNj5k7A"
      },
      "outputs": [],
      "source": [
        "final_df.shape"
      ]
    },
    {
      "cell_type": "code",
      "execution_count": null,
      "metadata": {
        "id": "U6RJ15HWUWXw"
      },
      "outputs": [],
      "source": [
        "final_df.columns"
      ]
    },
    {
      "cell_type": "code",
      "execution_count": null,
      "metadata": {
        "id": "zZSsBqLc5UQR"
      },
      "outputs": [],
      "source": [
        "final_df.dropna()"
      ]
    },
    {
      "cell_type": "code",
      "execution_count": null,
      "metadata": {
        "id": "-TBBC5IZJJTy"
      },
      "outputs": [],
      "source": [
        "plt.figure(figsize =(20,8), dpi=200)\n",
        "sns.heatmap(final_df.corr(),cmap =\"PiYG\", annot = True)"
      ]
    },
    {
      "cell_type": "code",
      "execution_count": null,
      "metadata": {
        "id": "Wt08s4J7TFWT"
      },
      "outputs": [],
      "source": [
        "from statsmodels.stats.outliers_influence import variance_inflation_factor\n",
        "\n",
        "#variables for which VIF to be calculated\n",
        "X = final_df[['cons_12m', 'cons_gas_12m', 'cons_last_month',\n",
        "       'forecast_cons_12m', 'forecast_cons_year', 'forecast_discount_energy',\n",
        "       'forecast_meter_rent_12m', 'forecast_price_energy_off_peak',\n",
        "       'forecast_price_energy_peak', 'forecast_price_pow_off_peak',\n",
        "       'imp_cons', 'margin_gross_pow_ele', 'margin_net_pow_ele', 'nb_prod_act',\n",
        "       'net_margin', 'num_years_antig', 'pow_max', 'churn', 'price_off_peak_var', 'price_peak_var',\n",
        "       'price_mid_peak_var', 'price_off_peak_fix', 'price_peak_fix',\n",
        "       'price_mid_peak_fix']]\n",
        "\n",
        "#converting into dataframe\n",
        "vif_data = pd.DataFrame()\n",
        "vif_data[\"feature\"] = X.columns\n",
        "\n",
        "#VIF Calculation\n",
        "vif_data[\"VIF\"] = [variance_inflation_factor(X.values, i)\n",
        "                          for i in range(len(X.columns))]\n",
        "\n",
        "print(vif_data)"
      ]
    },
    {
      "cell_type": "code",
      "execution_count": null,
      "metadata": {
        "id": "X-INQn6-U0oE"
      },
      "outputs": [],
      "source": [
        "final_df.info()"
      ]
    },
    {
      "cell_type": "code",
      "execution_count": null,
      "metadata": {
        "id": "dcgFCWbo7oI3"
      },
      "outputs": [],
      "source": [
        "final_df.columns"
      ]
    },
    {
      "cell_type": "code",
      "execution_count": null,
      "metadata": {
        "id": "rHqU2zmlJJUw"
      },
      "outputs": [],
      "source": [
        "final_df1= final_df[['id', 'channel_sales', 'cons_12m', 'cons_gas_12m', 'cons_last_month',\n",
        "       'date_activ', 'date_end', 'date_modif_prod', 'date_renewal',\n",
        "      'forecast_cons_year', 'forecast_discount_energy',\n",
        "       'forecast_meter_rent_12m', 'has_gas',\n",
        "       'imp_cons', 'margin_gross_pow_ele', 'margin_net_pow_ele', 'nb_prod_act',\n",
        "       'net_margin', 'num_years_antig', 'origin_up', 'pow_max', 'churn',\n",
        "       'price_date', 'price_off_peak_var', 'price_peak_var',\n",
        "   'price_off_peak_fix', 'price_peak_fix']]"
      ]
    },
    {
      "cell_type": "code",
      "execution_count": null,
      "metadata": {
        "id": "aztjUOb_JJYH"
      },
      "outputs": [],
      "source": [
        "final_df1"
      ]
    },
    {
      "cell_type": "code",
      "execution_count": null,
      "metadata": {
        "id": "iSzkBLF8-bUc"
      },
      "outputs": [],
      "source": [
        "final_df1.info()"
      ]
    },
    {
      "cell_type": "code",
      "execution_count": null,
      "metadata": {
        "id": "_AwlY1BH-MPs"
      },
      "outputs": [],
      "source": [
        "cat_cols = ['channel_sales','date_activ','date_end','date_modif_prod','date_renewal','has_gas','origin_up','price_date']"
      ]
    },
    {
      "cell_type": "code",
      "execution_count": null,
      "metadata": {
        "id": "DCIUN7E6xHd1"
      },
      "outputs": [],
      "source": [
        "#final_df1['date_activ'] = final_df1.date_activ.astype(str)\n",
        "#final_df1['date_activ']"
      ]
    },
    {
      "cell_type": "code",
      "execution_count": null,
      "metadata": {
        "id": "HHSbSrul9nmR"
      },
      "outputs": [],
      "source": [
        "from scipy.stats import chi2_contingency\n",
        "\n",
        "def get_chi_sq(row, column, df):\n",
        "\n",
        "    #plotting the graph for each independent variable with target variable\n",
        "    fig = plt.figure()\n",
        "    ax = fig.add_subplot(111)\n",
        "    sns.countplot(data=final_df1, x=row, hue=column)\n",
        "    plt.xlabel(row)\n",
        "    plt.ylabel('Count')\n",
        "    plt.show()\n",
        "    #doing this to keep from opening too many figs at once\n",
        "    plt.close(fig);\n",
        "\n",
        "    #creating cross tab to calculate chi square values\n",
        "    xtab = pd.crosstab(final_df1[row], final_df1[column], margins = False)\n",
        "    print('observed data:\\n', xtab)\n",
        "\n",
        "    #Chi-square contingency table\n",
        "    chi2, p_value, dof, expected = chi2_contingency(xtab, correction = False)\n",
        "    print('expected data:\\n', expected)\n",
        "    print('chi-squared value: {:.4f} for {:.0f} dof; p-value = {:.4f}\\n'.format(chi2, dof, p_value))"
      ]
    },
    {
      "cell_type": "code",
      "execution_count": null,
      "metadata": {
        "id": "RGE_9mMN9nre"
      },
      "outputs": [],
      "source": [
        "#for every category column, doing the Chi-sq test\n",
        "for cat_var in cat_cols:\n",
        "  get_chi_sq(cat_var, 'churn', final_df1)      #pricedate remove"
      ]
    },
    {
      "cell_type": "code",
      "execution_count": null,
      "metadata": {
        "id": "EODvABQJ-Mb4"
      },
      "outputs": [],
      "source": [
        "final_df1.drop(\"price_date\", axis =1, inplace = True)"
      ]
    },
    {
      "cell_type": "code",
      "execution_count": null,
      "metadata": {
        "id": "ISeNluAR-Mfg"
      },
      "outputs": [],
      "source": [
        "final_df1.shape"
      ]
    },
    {
      "cell_type": "code",
      "execution_count": null,
      "metadata": {
        "id": "8qTkXTxZ0JQQ"
      },
      "outputs": [],
      "source": [
        "final_df1.columns"
      ]
    },
    {
      "cell_type": "code",
      "execution_count": null,
      "metadata": {
        "id": "s9Q_dJ1w1wC5"
      },
      "outputs": [],
      "source": [
        "final_df1.shape"
      ]
    },
    {
      "cell_type": "code",
      "execution_count": null,
      "metadata": {
        "id": "FlcS85yFJJa8"
      },
      "outputs": [],
      "source": [
        "a = ['channel_sales','origin_up']"
      ]
    },
    {
      "cell_type": "code",
      "execution_count": null,
      "metadata": {
        "id": "TFNf17lmASic"
      },
      "outputs": [],
      "source": [
        "l = LabelEncoder()\n",
        "for i in a:\n",
        "    final_df1[i]=l.fit_transform(final_df1[i])\n",
        "final_df1"
      ]
    },
    {
      "cell_type": "code",
      "execution_count": null,
      "metadata": {
        "id": "T51jvJoMASlN"
      },
      "outputs": [],
      "source": [
        "final_df1['origin_up'].unique()"
      ]
    },
    {
      "cell_type": "code",
      "execution_count": null,
      "metadata": {
        "id": "iMFqw_8YASn8"
      },
      "outputs": [],
      "source": [
        "dummies = pd.get_dummies(final_df1.has_gas, prefix = 'hg')\n",
        "dummies"
      ]
    },
    {
      "cell_type": "code",
      "execution_count": null,
      "metadata": {
        "id": "Z0dF9uZXASqf"
      },
      "outputs": [],
      "source": [
        "con_cat = pd.concat([final_df1, dummies], axis =1)\n",
        "con_cat"
      ]
    },
    {
      "cell_type": "code",
      "execution_count": null,
      "metadata": {
        "id": "mhJ8kJtRASzR"
      },
      "outputs": [],
      "source": [
        "final = con_cat.drop(columns=[\"has_gas\"])\n",
        "final"
      ]
    },
    {
      "cell_type": "code",
      "execution_count": null,
      "metadata": {
        "id": "dOtJncEF31k5"
      },
      "outputs": [],
      "source": [
        "h_g = ['hg_f','hg_t']"
      ]
    },
    {
      "cell_type": "code",
      "execution_count": null,
      "metadata": {
        "id": "HvpLdYXG9n_D"
      },
      "outputs": [],
      "source": [
        "from scipy.stats import chi2_contingency\n",
        "\n",
        "def get_chi_sq(row, column, final):\n",
        "\n",
        "    #plotting the graph for each independent variable with target variable\n",
        "    fig = plt.figure()\n",
        "    ax = fig.add_subplot(111)\n",
        "    sns.countplot(data=final, x=row, hue=column)\n",
        "    plt.xlabel(row)\n",
        "    plt.ylabel('Count')\n",
        "    plt.show()\n",
        "    #doing this to keep from opening too many figs at once\n",
        "    plt.close(fig);\n",
        "\n",
        "    #creating cross tab to calculate chi square values\n",
        "    xtab = pd.crosstab(final[row], final[column], margins = False)\n",
        "    print('observed data:\\n', xtab)\n",
        "\n",
        "    #Chi-square contingency table\n",
        "    chi2, p_value, dof, expected = chi2_contingency(xtab, correction = False)\n",
        "    print('expected data:\\n', expected)\n",
        "    print('chi-squared value: {:.4f} for {:.0f} dof; p-value = {:.4f}\\n'.format(chi2, dof, p_value))"
      ]
    },
    {
      "cell_type": "code",
      "execution_count": null,
      "metadata": {
        "id": "VeztyKZ79oCO"
      },
      "outputs": [],
      "source": [
        "#for every category column, doing the Chi-sq test\n",
        "for var1 in h_g:\n",
        "  get_chi_sq(var1, 'churn', final)"
      ]
    },
    {
      "cell_type": "code",
      "execution_count": null,
      "metadata": {
        "id": "ql_21I2kErUM"
      },
      "outputs": [],
      "source": [
        "final.drop('id', inplace = True, axis = 1)"
      ]
    },
    {
      "cell_type": "code",
      "execution_count": null,
      "metadata": {
        "id": "ZgAevtQ_E79Z"
      },
      "outputs": [],
      "source": [
        "final"
      ]
    },
    {
      "cell_type": "code",
      "execution_count": null,
      "metadata": {
        "id": "j3uopxqVKjBx"
      },
      "outputs": [],
      "source": [
        "final['date_activ'] = pd.to_datetime(final.date_activ)\n",
        "final['date_activ']"
      ]
    },
    {
      "cell_type": "code",
      "execution_count": null,
      "metadata": {
        "id": "k_mMVKK5Lo4P"
      },
      "outputs": [],
      "source": [
        "final['date_end'] = pd.to_datetime(final.date_end)\n",
        "final['date_end']"
      ]
    },
    {
      "cell_type": "code",
      "execution_count": null,
      "metadata": {
        "id": "w0hQEEmbLo8f"
      },
      "outputs": [],
      "source": [
        "final['date_modif_prod'] = pd.to_datetime(final.date_modif_prod)\n",
        "final['date_modif_prod']"
      ]
    },
    {
      "cell_type": "code",
      "execution_count": null,
      "metadata": {
        "id": "pLNdZr0YLpEp"
      },
      "outputs": [],
      "source": [
        "final['date_renewal'] = pd.to_datetime(final.date_renewal)\n",
        "final['date_renewal']"
      ]
    },
    {
      "cell_type": "code",
      "execution_count": null,
      "metadata": {
        "id": "BJctAnuSKjDh"
      },
      "outputs": [],
      "source": [
        "final"
      ]
    },
    {
      "cell_type": "code",
      "execution_count": null,
      "metadata": {
        "id": "IasIY6MK-jrE"
      },
      "outputs": [],
      "source": [
        "final.info()"
      ]
    },
    {
      "cell_type": "code",
      "execution_count": null,
      "metadata": {
        "id": "_1MPFbB99fK7"
      },
      "outputs": [],
      "source": [
        "#final['Diff_activ_end'] = final.apply(lambda row: (row['date_end'] - row['date_activ']).days, axis=1)\n",
        "#final['Diff_activ_end']= final['Diff_activ_end'].astype(int)"
      ]
    },
    {
      "cell_type": "code",
      "execution_count": null,
      "metadata": {
        "id": "3M7-WITUA5f5"
      },
      "outputs": [],
      "source": [
        "final['diff_activ_years'] = (final['date_end'] - final['date_activ']) / np.timedelta64(1, 'Y')\n",
        "final['diff_activ_years']= final['diff_activ_years'].astype(int)"
      ]
    },
    {
      "cell_type": "code",
      "execution_count": null,
      "metadata": {
        "id": "ZoI2yj47_iC0"
      },
      "outputs": [],
      "source": [
        "final"
      ]
    },
    {
      "cell_type": "code",
      "execution_count": null,
      "metadata": {
        "id": "yxWETIEb9fUu"
      },
      "outputs": [],
      "source": [
        "final['diff_activ_years'].unique()"
      ]
    },
    {
      "cell_type": "code",
      "execution_count": null,
      "metadata": {
        "id": "HDV7NQlV9fbB"
      },
      "outputs": [],
      "source": [
        "final['diff_renewal_years'] = (final['date_end'] - final['date_renewal']) / np.timedelta64(1, 'Y')\n",
        "final['diff_renewal_years']= final['diff_renewal_years'].astype(int)"
      ]
    },
    {
      "cell_type": "code",
      "execution_count": null,
      "metadata": {
        "id": "dGoGajIV9fci"
      },
      "outputs": [],
      "source": [
        "final"
      ]
    },
    {
      "cell_type": "code",
      "execution_count": null,
      "metadata": {
        "id": "JFKh9gliGhMe"
      },
      "outputs": [],
      "source": [
        "final['diff_renewal_years'].unique()"
      ]
    },
    {
      "cell_type": "code",
      "execution_count": null,
      "metadata": {
        "id": "Eap1Q7DiKjHI"
      },
      "outputs": [],
      "source": [
        "#final[['month_activ', 'year_activ','day_activ']] = final['date_activ'].str.split('-', 1, expand=True)\n",
        "#final"
      ]
    },
    {
      "cell_type": "code",
      "execution_count": null,
      "metadata": {
        "id": "bjJqicT-Pbt7"
      },
      "outputs": [],
      "source": [
        "#final['day_activ'] = final['date_activ'].dt.day\n",
        "#final['month_activ'] = final['date_activ'].dt.month\n",
        "#final['year_activ'] = final['date_activ'].dt.year\n",
        "#final"
      ]
    },
    {
      "cell_type": "code",
      "execution_count": null,
      "metadata": {
        "id": "ZfXx8UqYQHYS"
      },
      "outputs": [],
      "source": [
        "#final['day_end'] = final['date_end'].dt.day\n",
        "#final['month_end'] = final['date_end'].dt.month\n",
        "#final['year_end'] = final['date_end'].dt.year\n",
        "#final"
      ]
    },
    {
      "cell_type": "code",
      "execution_count": null,
      "metadata": {
        "id": "elG8mHn_QHbw"
      },
      "outputs": [],
      "source": [
        "#final['day_modif_prod'] = final['date_modif_prod'].dt.day\n",
        "#final['month_modif_prod'] = final['date_modif_prod'].dt.month\n",
        "#final['year_modif_prod'] = final['date_modif_prod'].dt.year\n",
        "#final"
      ]
    },
    {
      "cell_type": "code",
      "execution_count": null,
      "metadata": {
        "id": "A2-xNZ3UQJaa"
      },
      "outputs": [],
      "source": [
        "#final['day_renewal'] = final['date_renewal'].dt.day\n",
        "#final['month_renewal'] = final['date_renewal'].dt.month\n",
        "#final['year_renewal'] = final['date_renewal'].dt.year\n",
        "#final"
      ]
    },
    {
      "cell_type": "code",
      "execution_count": null,
      "metadata": {
        "id": "aymQ7_uSRPEg"
      },
      "outputs": [],
      "source": [
        "final.drop(columns=['date_activ',\t'date_end',\t'date_renewal'], inplace = True, axis = 1)\n"
      ]
    },
    {
      "cell_type": "code",
      "execution_count": null,
      "metadata": {
        "id": "v-2HejLMRg8O"
      },
      "outputs": [],
      "source": [
        "final"
      ]
    },
    {
      "cell_type": "code",
      "execution_count": null,
      "metadata": {
        "id": "hyeZkUEhKjLo"
      },
      "outputs": [],
      "source": [
        "final.info()"
      ]
    },
    {
      "cell_type": "code",
      "execution_count": null,
      "metadata": {
        "id": "gUFZCX7w9YX1"
      },
      "outputs": [],
      "source": [
        "#sns.scatterplot(data=final, x=\"date_modif_prod \", y=\"churn\")\n",
        "#plt.show()"
      ]
    },
    {
      "cell_type": "code",
      "execution_count": null,
      "metadata": {
        "id": "2A13vpjd9ZOL"
      },
      "outputs": [],
      "source": [
        "final.drop(\"date_modif_prod\", inplace = True, axis = 1)"
      ]
    },
    {
      "cell_type": "code",
      "execution_count": null,
      "metadata": {
        "id": "VVBNa5TY9ZRd"
      },
      "outputs": [],
      "source": [
        "final"
      ]
    },
    {
      "cell_type": "code",
      "execution_count": null,
      "metadata": {
        "id": "mPbo3Zdq31rH"
      },
      "outputs": [],
      "source": [
        "X = final.drop('churn', axis = 1)\n",
        "y = final['churn']"
      ]
    },
    {
      "cell_type": "code",
      "execution_count": null,
      "metadata": {
        "id": "AL-0TJJnELGL"
      },
      "outputs": [],
      "source": [
        "X_train, X_test, y_train, y_test = train_test_split(X, y, test_size = 0.2,random_state=42)"
      ]
    },
    {
      "cell_type": "code",
      "execution_count": null,
      "metadata": {
        "id": "y_fqurzxELHf"
      },
      "outputs": [],
      "source": [
        "X_train"
      ]
    },
    {
      "cell_type": "code",
      "execution_count": null,
      "metadata": {
        "id": "ulzPWMkwELJy"
      },
      "outputs": [],
      "source": [
        "X_test"
      ]
    },
    {
      "cell_type": "code",
      "execution_count": null,
      "metadata": {
        "id": "kFEfs1W4ELMZ"
      },
      "outputs": [],
      "source": [
        "sc = StandardScaler()\n",
        "X_Train = sc.fit_transform(X_train)\n",
        "X_Test = sc.transform(X_test)"
      ]
    },
    {
      "cell_type": "code",
      "source": [
        "param_grid = {\n",
        "    'penalty': ['l1', 'l2'],\n",
        "    'C': [0.1, 1, 10, 100]\n",
        "}"
      ],
      "metadata": {
        "id": "IxMm6tqgEusK"
      },
      "execution_count": null,
      "outputs": []
    },
    {
      "cell_type": "code",
      "source": [
        "from sklearn.model_selection import GridSearchCV\n",
        "lr = LogisticRegression()\n",
        "clf = GridSearchCV(lr, param_grid, cv=5,scoring = 'accuracy')"
      ],
      "metadata": {
        "id": "pdA7QYGEEyX-"
      },
      "execution_count": null,
      "outputs": []
    },
    {
      "cell_type": "code",
      "source": [
        "clf.fit(X_Train, y_train)"
      ],
      "metadata": {
        "id": "JF365E8LE2KP"
      },
      "execution_count": null,
      "outputs": []
    },
    {
      "cell_type": "code",
      "source": [
        "print('Best Parameters:',clf.best_params_,end='\\n\\n')\n",
        "print('Best Score:',clf.best_score_)"
      ],
      "metadata": {
        "id": "T6gOX1k3E2PD"
      },
      "execution_count": null,
      "outputs": []
    },
    {
      "cell_type": "code",
      "source": [
        "clf.fit(X_Test, y_test)"
      ],
      "metadata": {
        "id": "QWfr1I-LFXf9"
      },
      "execution_count": null,
      "outputs": []
    },
    {
      "cell_type": "code",
      "source": [
        "print('Best Parameters:',clf.best_params_,end='\\n\\n')\n",
        "print('Best Score:',clf.best_score_)"
      ],
      "metadata": {
        "id": "CfMCsDRqIiCU"
      },
      "execution_count": null,
      "outputs": []
    },
    {
      "cell_type": "code",
      "execution_count": null,
      "metadata": {
        "id": "wFYJaMdMAWSO"
      },
      "outputs": [],
      "source": [
        "lr = LogisticRegression(C= 100)\n",
        "lr.fit(X_Train, y_train)"
      ]
    },
    {
      "cell_type": "code",
      "source": [
        "lr_acc = accuracy_score(y_train, lr.predict(X_Train))\n",
        "print(f\"Accuracy Score is {lr_acc}\")"
      ],
      "metadata": {
        "id": "aybziUjQvu8j"
      },
      "execution_count": null,
      "outputs": []
    },
    {
      "cell_type": "code",
      "execution_count": null,
      "metadata": {
        "id": "bVZm8Pv4AWXf"
      },
      "outputs": [],
      "source": [
        "lr_acc = accuracy_score(y_test, lr.predict(X_Test))\n",
        "print(f\"Accuracy Score is {lr_acc}\")"
      ]
    },
    {
      "cell_type": "code",
      "execution_count": null,
      "metadata": {
        "id": "agc5hPwpELSm"
      },
      "outputs": [],
      "source": [
        "dtc = DecisionTreeClassifier()\n",
        "dtc.fit(X_Train, y_train)"
      ]
    },
    {
      "cell_type": "code",
      "execution_count": null,
      "metadata": {
        "id": "c0cDACoEqjBl"
      },
      "outputs": [],
      "source": [
        "from sklearn.model_selection import GridSearchCV\n",
        "dt_hp = DecisionTreeClassifier(random_state=43)\n",
        "\n",
        "params = {'max_depth':[3,5,7,10,15],\n",
        "          'min_samples_leaf':[3,5,10,15,20],\n",
        "          'min_samples_split':[8,10,12,18,20,16],\n",
        "          'criterion':['gini','entropy']}\n",
        "GS = GridSearchCV(estimator=dt_hp,param_grid=params,cv=5,n_jobs=-1, verbose=True, scoring='accuracy')"
      ]
    },
    {
      "cell_type": "code",
      "execution_count": null,
      "metadata": {
        "id": "A-BBEejLqoeG"
      },
      "outputs": [],
      "source": [
        "GS.fit(X_Train, y_train)"
      ]
    },
    {
      "cell_type": "code",
      "execution_count": null,
      "metadata": {
        "id": "SJZtOHufqwLQ"
      },
      "outputs": [],
      "source": [
        "print('Best Parameters:',GS.best_params_,end='\\n\\n')\n",
        "print('Best Score:',GS.best_score_)"
      ]
    },
    {
      "cell_type": "code",
      "execution_count": null,
      "metadata": {
        "id": "1AqVLuxJxDVB"
      },
      "outputs": [],
      "source": [
        "GS.fit(X_Test, y_test)"
      ]
    },
    {
      "cell_type": "code",
      "execution_count": null,
      "metadata": {
        "id": "8T6a5ZSVxQ_1"
      },
      "outputs": [],
      "source": [
        "print('Best Parameters:',GS.best_params_,end='\\n\\n')\n",
        "print('Best Score:',GS.best_score_)"
      ]
    },
    {
      "cell_type": "code",
      "execution_count": null,
      "metadata": {
        "id": "pPxEnHwVELUf"
      },
      "outputs": [],
      "source": [
        "dtc_acc = accuracy_score(y_train, dtc.predict(X_Train))\n",
        "print(f\"Accuracy Score is {dtc_acc}\")"
      ]
    },
    {
      "cell_type": "code",
      "source": [
        "dtc_acc = accuracy_score(y_test, dtc.predict(X_Test))\n",
        "print(f\"Accuracy Score is {dtc_acc}\")"
      ],
      "metadata": {
        "id": "jmfx38QFv4ip"
      },
      "execution_count": null,
      "outputs": []
    },
    {
      "cell_type": "code",
      "execution_count": null,
      "metadata": {
        "id": "ZAHiEhm2Vyib"
      },
      "outputs": [],
      "source": [
        "dtc_ps = precision_score(y_test, dtc.predict(X_Test))\n",
        "print(f\"precision_score is {dtc_ps}\")                       #from sklearn.metrics import precision_score, recall_score, f1_score, accuracy_score"
      ]
    },
    {
      "cell_type": "code",
      "execution_count": null,
      "metadata": {
        "id": "7UG1afulVyzp"
      },
      "outputs": [],
      "source": [
        "dtc_recall = recall_score(y_test, dtc.predict(X_Test))\n",
        "print(f\"recall Score is {dtc_recall}\")"
      ]
    },
    {
      "cell_type": "code",
      "execution_count": null,
      "metadata": {
        "id": "58hbHh0-WHVV"
      },
      "outputs": [],
      "source": [
        "dtc_f1s = f1_score(y_test, dtc.predict(X_Test))\n",
        "print(f\"F1 Score is {dtc_f1s}\")"
      ]
    },
    {
      "cell_type": "code",
      "execution_count": null,
      "metadata": {
        "id": "0Ot7ul-JR_L7"
      },
      "outputs": [],
      "source": [
        "rf = RandomForestClassifier()\n",
        "rf.fit(X_Train, y_train)"
      ]
    },
    {
      "cell_type": "code",
      "execution_count": null,
      "metadata": {
        "id": "Vjjv63dvCgxI"
      },
      "outputs": [],
      "source": [
        "from sklearn.model_selection import GridSearchCV\n",
        "# Create the parameter grid based on the results of random search\n",
        "param_grid = {\n",
        "    'bootstrap': [True],\n",
        "    'max_depth': [110],\n",
        "    'max_features': [2, 3],\n",
        "    'min_samples_leaf': [3, 4, 15],\n",
        "    'min_samples_split': [8, 10, 20],\n",
        "    'n_estimators': [1000]\n",
        "}\n",
        "# Create a based model\n",
        "rf1 = RandomForestClassifier()\n",
        "# Instantiate the grid search model\n",
        "grid_search = GridSearchCV(estimator = rf1, param_grid = param_grid,\n",
        "                          cv = 5, n_jobs = -1, verbose = 2, scoring='accuracy')"
      ]
    },
    {
      "cell_type": "code",
      "execution_count": null,
      "metadata": {
        "id": "rwQMlpclEhc-"
      },
      "outputs": [],
      "source": [
        "grid_search.fit(X_Train, y_train)"
      ]
    },
    {
      "cell_type": "code",
      "execution_count": null,
      "metadata": {
        "id": "t3moGcFLRlC4"
      },
      "outputs": [],
      "source": [
        "print('Best Parameters:',grid_search.best_params_,end='\\n\\n')\n",
        "print('Best Score:',grid_search.best_score_)"
      ]
    },
    {
      "cell_type": "code",
      "source": [
        "grid_search.fit(X_Test, y_test)"
      ],
      "metadata": {
        "id": "SwA4r8OQfPxD"
      },
      "execution_count": null,
      "outputs": []
    },
    {
      "cell_type": "code",
      "source": [
        "print('Best Parameters:',grid_search.best_params_,end='\\n\\n')\n",
        "print('Best Score:',grid_search.best_score_)"
      ],
      "metadata": {
        "id": "MErqEBfZfa7L"
      },
      "execution_count": null,
      "outputs": []
    },
    {
      "cell_type": "code",
      "execution_count": null,
      "metadata": {
        "id": "os6qFoHuR_Ra"
      },
      "outputs": [],
      "source": [
        "rf_acc = accuracy_score(y_train, rf.predict(X_Train))\n",
        "print(f\"Accuracy Score is {rf_acc}\")"
      ]
    },
    {
      "cell_type": "code",
      "execution_count": null,
      "metadata": {
        "id": "7ymHDqkgV2P-"
      },
      "outputs": [],
      "source": [
        "rf_acc = accuracy_score(y_test, rf.predict(X_Test))\n",
        "print(f\"Accuracy Score is {rf_acc}\")"
      ]
    },
    {
      "cell_type": "code",
      "execution_count": null,
      "metadata": {
        "id": "84BdV7yEV2Ve"
      },
      "outputs": [],
      "source": [
        "rf_recall = recall_score(y_test, rf.predict(X_Test))\n",
        "print(f\"Recall Score is {rf_recall}\")"
      ]
    },
    {
      "cell_type": "code",
      "execution_count": null,
      "metadata": {
        "id": "W9WT4mA6YCXG"
      },
      "outputs": [],
      "source": [
        "rf_f1s = f1_score(y_test, rf.predict(X_Test))\n",
        "print(f\"Recall Score is {rf_f1s}\")"
      ]
    },
    {
      "cell_type": "code",
      "execution_count": null,
      "metadata": {
        "id": "zY1Yi2rwccwL"
      },
      "outputs": [],
      "source": [
        "importances = rf.feature_importances_\n",
        "plt.title('Feature Importance')\n",
        "sorted_indices = np.argsort(importances)[::-1]\n",
        "plt.bar(range(X_train.shape[1]), importances[sorted_indices], align='center')\n",
        "plt.xticks(range(X_train.shape[1]), X_train.columns[sorted_indices], rotation=90)\n",
        "plt.tight_layout()\n",
        "plt.show()"
      ]
    },
    {
      "cell_type": "code",
      "execution_count": null,
      "metadata": {
        "id": "8_o52CGFR_X4"
      },
      "outputs": [],
      "source": [
        "gb = GradientBoostingClassifier()\n",
        "gb.fit(X_Train, y_train)"
      ]
    },
    {
      "cell_type": "code",
      "execution_count": null,
      "metadata": {
        "id": "saLy2OM0R_g_"
      },
      "outputs": [],
      "source": [
        "gb_acc = accuracy_score(y_test, gb.predict(X_Test))\n",
        "print(f\"Accuracy Score is {gb_acc}\")"
      ]
    },
    {
      "cell_type": "code",
      "source": [
        "gb_acc = accuracy_score(y_train, gb.predict(X_Train))\n",
        "print(f\"Accuracy Score is {gb_acc}\")"
      ],
      "metadata": {
        "id": "8CWkQSmwyg6Q"
      },
      "execution_count": null,
      "outputs": []
    },
    {
      "cell_type": "code",
      "execution_count": null,
      "metadata": {
        "id": "51t28aQRSm9j"
      },
      "outputs": [],
      "source": [
        "#Xgb = XGBClassifier(n_estimators=1000,max_depth=6,\n",
        "             # min_child_weight=1, num_parallel_tree=None,\n",
        "             # random_state= 27,learning_rate =0.1,gamma=0.5, colsample_bytree=0.8,cv = 5, scoring = 'accuracy')\n",
        "#Xgb.fit(X_Train, y_train)"
      ]
    },
    {
      "cell_type": "code",
      "source": [
        "# Perform hyperparameter tuning using GridSearchCV\n",
        "from sklearn.model_selection import GridSearchCV\n",
        "import xgboost as xgb\n",
        "print('Performing hyperparameter tuning using GridSearchCV...')\n",
        "params = {'max_depth': [3, 5, 7],\n",
        "          'learning_rate': [0.1, 0.01, 0.001],\n",
        "          'subsample': [0.7, 0.8, 0.9],\n",
        "          'colsample_bytree': [0.7, 0.8, 0.9]}\n",
        "xgb_model = xgb.XGBClassifier(objective='binary:logistic', n_estimators=100, random_state=42)\n",
        "grid_search = GridSearchCV(estimator=xgb_model, param_grid=params, scoring='accuracy', n_jobs=-1, cv=5)\n",
        "grid_search.fit(X_Train, y_train)"
      ],
      "metadata": {
        "id": "8PQnMNiNf-uw"
      },
      "execution_count": null,
      "outputs": []
    },
    {
      "cell_type": "code",
      "source": [
        "print('Best Parameters:',grid_search.best_params_,end='\\n\\n')\n",
        "print('Best Score:',grid_search.best_score_)"
      ],
      "metadata": {
        "id": "Er0ylRk2iZxf"
      },
      "execution_count": null,
      "outputs": []
    },
    {
      "cell_type": "code",
      "source": [
        "grid_search.fit(X_Test, y_test)"
      ],
      "metadata": {
        "id": "C6UcAiz_gjbA"
      },
      "execution_count": null,
      "outputs": []
    },
    {
      "cell_type": "code",
      "source": [
        "print('Best Parameters:',grid_search.best_params_,end='\\n\\n')\n",
        "print('Best Score:',grid_search.best_score_)"
      ],
      "metadata": {
        "id": "GUDA6KsUgqDb"
      },
      "execution_count": null,
      "outputs": []
    },
    {
      "cell_type": "code",
      "source": [
        "Xgb = XGBClassifier()#n_estimators = 100)\n",
        "Xgb.fit(X_Train, y_train)"
      ],
      "metadata": {
        "id": "c3loVq9Sgwwl"
      },
      "execution_count": null,
      "outputs": []
    },
    {
      "cell_type": "code",
      "source": [
        "Xgb_acc = accuracy_score(y_test, Xgb.predict(X_Test))\n",
        "print(f\"Accuracy Score is {Xgb_acc}\")"
      ],
      "metadata": {
        "id": "uLDCH4i1g7wl"
      },
      "execution_count": null,
      "outputs": []
    },
    {
      "cell_type": "code",
      "source": [
        "Xgb_acc = accuracy_score(y_train, Xgb.predict(X_Train))\n",
        "print(f\"Accuracy Score is {Xgb_acc}\")"
      ],
      "metadata": {
        "id": "ZdWuyFsgy0UL"
      },
      "execution_count": null,
      "outputs": []
    },
    {
      "cell_type": "code",
      "execution_count": null,
      "metadata": {
        "id": "lh7HJqqoT2tS"
      },
      "outputs": [],
      "source": [
        "importances = Xgb.feature_importances_\n",
        "plt.title('Feature Importance')\n",
        "sorted_indices = np.argsort(importances)[::-1]\n",
        "plt.bar(range(X_train.shape[1]), importances[sorted_indices], align='center')\n",
        "plt.xticks(range(X_train.shape[1]), X_train.columns[sorted_indices], rotation=90)\n",
        "plt.tight_layout()\n",
        "plt.show()"
      ]
    },
    {
      "cell_type": "code",
      "execution_count": null,
      "metadata": {
        "id": "RukBnvNQT2wv"
      },
      "outputs": [],
      "source": [
        "svc=SVC()\n",
        "svc.fit(X_Train, y_train)"
      ]
    },
    {
      "cell_type": "code",
      "execution_count": null,
      "metadata": {
        "id": "cfxAvOURzpqQ"
      },
      "outputs": [],
      "source": [
        "svc_acc = accuracy_score(y_test, svc.predict(X_Test))\n",
        "print(f\"Accuracy Score is {svc_acc}\")"
      ]
    },
    {
      "cell_type": "code",
      "execution_count": null,
      "metadata": {
        "id": "xVlbgJKJzptC"
      },
      "outputs": [],
      "source": [
        "svc_acc = accuracy_score(y_train, svc.predict(X_Train))\n",
        "print(f\"Accuracy Score is {svc_acc}\")"
      ]
    },
    {
      "cell_type": "code",
      "execution_count": null,
      "metadata": {
        "id": "-8FK3FRmzpvs"
      },
      "outputs": [],
      "source": [
        "param_grid = {'C': [0.1, 1, 10, 100, 1000],\n",
        "              'gamma': [1, 0.1, 0.01, 0.001, 0.0001],\n",
        "              'kernel': ['rbf','linear']}\n",
        "\n",
        "grid = GridSearchCV(SVC(), param_grid, refit = True, verbose = 3,scoring = 'accuracy')\n",
        "\n",
        "# fitting the model for grid search\n",
        "grid.fit(X_Train, y_train)"
      ]
    },
    {
      "cell_type": "code",
      "execution_count": null,
      "metadata": {
        "id": "QyRS_TRjT21P"
      },
      "outputs": [],
      "source": [
        "print('Best Parameters:',grid.best_params_,end='\\n\\n')\n",
        "print('Best Score:',grid.best_score_)"
      ]
    },
    {
      "cell_type": "code",
      "source": [
        "grid.fit(X_Test, y_test)"
      ],
      "metadata": {
        "id": "-FOOTNc0NnIF"
      },
      "execution_count": null,
      "outputs": []
    },
    {
      "cell_type": "code",
      "execution_count": null,
      "metadata": {
        "id": "XQ9k4Jq8T23F"
      },
      "outputs": [],
      "source": [
        "print('Best Parameters:',grid.best_params_,end='\\n\\n')\n",
        "print('Best Score:',grid.best_score_)"
      ]
    }
  ],
  "metadata": {
    "colab": {
      "provenance": []
    },
    "kernelspec": {
      "display_name": "Python 3",
      "name": "python3"
    },
    "language_info": {
      "name": "python"
    }
  },
  "nbformat": 4,
  "nbformat_minor": 0
}